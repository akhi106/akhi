{
  "nbformat": 4,
  "nbformat_minor": 0,
  "metadata": {
    "kernelspec": {
      "display_name": "Python 3",
      "language": "python",
      "name": "python3"
    },
    "language_info": {
      "codemirror_mode": {
        "name": "ipython",
        "version": 3
      },
      "file_extension": ".py",
      "mimetype": "text/x-python",
      "name": "python",
      "nbconvert_exporter": "python",
      "pygments_lexer": "ipython3",
      "version": "3.8.10"
    },
    "colab": {
      "name": "new-file.ipynb",
      "provenance": [],
      "collapsed_sections": [],
      "include_colab_link": true
    }
  },
  "cells": [
    {
      "cell_type": "markdown",
      "metadata": {
        "id": "view-in-github",
        "colab_type": "text"
      },
      "source": [
        "<a href=\"https://colab.research.google.com/github/akhi106/akhi/blob/main/new_file.ipynb\" target=\"_parent\"><img src=\"https://colab.research.google.com/assets/colab-badge.svg\" alt=\"Open In Colab\"/></a>"
      ]
    },
    {
      "cell_type": "code",
      "metadata": {
        "id": "jYbvVdtBrVYN"
      },
      "source": [
        "import numpy as np\n",
        "import pandas as pd\n",
        "import matplotlib.pyplot as plt\n",
        "import seaborn as sns\n"
      ],
      "execution_count": 1,
      "outputs": []
    },
    {
      "cell_type": "code",
      "metadata": {
        "id": "QGMrLpwhrVYU",
        "colab": {
          "base_uri": "https://localhost:8080/",
          "height": 456
        },
        "outputId": "1b1601f7-cb99-4de6-a5d9-10f387b5c9a8"
      },
      "source": [
        "import pandas as pd\n",
        "import numpy as np\n",
        "df = pd.read_csv('/content/sample_data/2018-06-06-pdb-intersect-pisces.csv', nrows=9050)\n",
        "df"
      ],
      "execution_count": 2,
      "outputs": [
        {
          "output_type": "execute_result",
          "data": {
            "text/html": [
              "<div>\n",
              "<style scoped>\n",
              "    .dataframe tbody tr th:only-of-type {\n",
              "        vertical-align: middle;\n",
              "    }\n",
              "\n",
              "    .dataframe tbody tr th {\n",
              "        vertical-align: top;\n",
              "    }\n",
              "\n",
              "    .dataframe thead th {\n",
              "        text-align: right;\n",
              "    }\n",
              "</style>\n",
              "<table border=\"1\" class=\"dataframe\">\n",
              "  <thead>\n",
              "    <tr style=\"text-align: right;\">\n",
              "      <th></th>\n",
              "      <th>pdb_id</th>\n",
              "      <th>chain_code</th>\n",
              "      <th>seq</th>\n",
              "      <th>sst8</th>\n",
              "      <th>sst3</th>\n",
              "      <th>len</th>\n",
              "      <th>has_nonstd_aa</th>\n",
              "      <th>Exptl.</th>\n",
              "      <th>resolution</th>\n",
              "      <th>R-factor</th>\n",
              "      <th>FreeRvalue</th>\n",
              "    </tr>\n",
              "  </thead>\n",
              "  <tbody>\n",
              "    <tr>\n",
              "      <th>0</th>\n",
              "      <td>1FV1</td>\n",
              "      <td>F</td>\n",
              "      <td>NPVVHFFKNIVTPRTPPPSQ</td>\n",
              "      <td>CCCCCBCCCCCCCCCCCCCC</td>\n",
              "      <td>CCCCCECCCCCCCCCCCCCC</td>\n",
              "      <td>20</td>\n",
              "      <td>False</td>\n",
              "      <td>XRAY</td>\n",
              "      <td>1.90</td>\n",
              "      <td>0.23</td>\n",
              "      <td>0.27</td>\n",
              "    </tr>\n",
              "    <tr>\n",
              "      <th>1</th>\n",
              "      <td>1LM8</td>\n",
              "      <td>H</td>\n",
              "      <td>DLDLEMLAPYIPMDDDFQLR</td>\n",
              "      <td>CCCCCCCCCBCCSCCCEECC</td>\n",
              "      <td>CCCCCCCCCECCCCCCEECC</td>\n",
              "      <td>20</td>\n",
              "      <td>False</td>\n",
              "      <td>XRAY</td>\n",
              "      <td>1.85</td>\n",
              "      <td>0.20</td>\n",
              "      <td>0.24</td>\n",
              "    </tr>\n",
              "    <tr>\n",
              "      <th>2</th>\n",
              "      <td>1O06</td>\n",
              "      <td>A</td>\n",
              "      <td>EEDPDLKAAIQESLREAEEA</td>\n",
              "      <td>CCCHHHHHHHHHHHHHHHTC</td>\n",
              "      <td>CCCHHHHHHHHHHHHHHHCC</td>\n",
              "      <td>20</td>\n",
              "      <td>False</td>\n",
              "      <td>XRAY</td>\n",
              "      <td>1.45</td>\n",
              "      <td>0.19</td>\n",
              "      <td>0.22</td>\n",
              "    </tr>\n",
              "    <tr>\n",
              "      <th>3</th>\n",
              "      <td>1QOW</td>\n",
              "      <td>D</td>\n",
              "      <td>CTFTLPGGGGVCTLTSECI*</td>\n",
              "      <td>CCTTSCTTCSSTTSSTTCCC</td>\n",
              "      <td>CCCCCCCCCCCCCCCCCCCC</td>\n",
              "      <td>20</td>\n",
              "      <td>True</td>\n",
              "      <td>XRAY</td>\n",
              "      <td>1.06</td>\n",
              "      <td>0.14</td>\n",
              "      <td>1.00</td>\n",
              "    </tr>\n",
              "    <tr>\n",
              "      <th>4</th>\n",
              "      <td>1RDQ</td>\n",
              "      <td>I</td>\n",
              "      <td>TTYADFIASGRTGRRNAIHD</td>\n",
              "      <td>CHHHHHHTSSCSSCCCCEEC</td>\n",
              "      <td>CHHHHHHCCCCCCCCCCEEC</td>\n",
              "      <td>20</td>\n",
              "      <td>False</td>\n",
              "      <td>XRAY</td>\n",
              "      <td>1.26</td>\n",
              "      <td>0.13</td>\n",
              "      <td>0.16</td>\n",
              "    </tr>\n",
              "    <tr>\n",
              "      <th>...</th>\n",
              "      <td>...</td>\n",
              "      <td>...</td>\n",
              "      <td>...</td>\n",
              "      <td>...</td>\n",
              "      <td>...</td>\n",
              "      <td>...</td>\n",
              "      <td>...</td>\n",
              "      <td>...</td>\n",
              "      <td>...</td>\n",
              "      <td>...</td>\n",
              "      <td>...</td>\n",
              "    </tr>\n",
              "    <tr>\n",
              "      <th>9045</th>\n",
              "      <td>3TG7</td>\n",
              "      <td>A</td>\n",
              "      <td>ATPSMMPQWSYMHISGQDASEYLSPGLVQFARATETYFSLNNKFRN...</td>\n",
              "      <td>CCCCCCCHHHHHTSSSCCHHHHSCHHHHHHHHHHTTTSCCGGGSCC...</td>\n",
              "      <td>CCCCCCCHHHHHCCCCCCHHHHCCHHHHHHHHHHCCCCCCHHHCCC...</td>\n",
              "      <td>951</td>\n",
              "      <td>False</td>\n",
              "      <td>XRAY</td>\n",
              "      <td>1.57</td>\n",
              "      <td>0.19</td>\n",
              "      <td>0.22</td>\n",
              "    </tr>\n",
              "    <tr>\n",
              "      <th>9046</th>\n",
              "      <td>5DKX</td>\n",
              "      <td>A</td>\n",
              "      <td>GSEFVKEHDWKKCDQSGFCRRNRAYADHALSAISWESPYKIAPETG...</td>\n",
              "      <td>CCCCCSSCCCCCGGGSHHHHHHHHHHHHHHHSTTCCCSEEECGGGC...</td>\n",
              "      <td>CCCCCCCCCCCCHHHCHHHHHHHHHHHHHHHCCCCCCCEEECHHHC...</td>\n",
              "      <td>951</td>\n",
              "      <td>False</td>\n",
              "      <td>XRAY</td>\n",
              "      <td>1.40</td>\n",
              "      <td>0.15</td>\n",
              "      <td>0.17</td>\n",
              "    </tr>\n",
              "    <tr>\n",
              "      <th>9047</th>\n",
              "      <td>5JOV</td>\n",
              "      <td>A</td>\n",
              "      <td>MGSSHHHHHHSSGLEVLFQGPASNKVYEKTGDSVIVKVQHKETGGP...</td>\n",
              "      <td>CCCHHHHSCCCCCCCCCTTSCGGGSSEEECSSEEEEECSSCCTTSC...</td>\n",
              "      <td>CCCHHHHCCCCCCCCCCCCCCHHHCCEEECCCEEEEECCCCCCCCC...</td>\n",
              "      <td>955</td>\n",
              "      <td>False</td>\n",
              "      <td>XRAY</td>\n",
              "      <td>1.50</td>\n",
              "      <td>0.11</td>\n",
              "      <td>0.15</td>\n",
              "    </tr>\n",
              "    <tr>\n",
              "      <th>9048</th>\n",
              "      <td>2OKX</td>\n",
              "      <td>B</td>\n",
              "      <td>MAGRNWNASWIWGGQEESPRNEWRCFRGSFDAPASVEGPAMLHITA...</td>\n",
              "      <td>CCCCCCCSEEEECSSCSSCTTEEEEEEEEEECCSCCCSCCEEEEEE...</td>\n",
              "      <td>CCCCCCCCEEEECCCCCCCCCEEEEEEEEEECCCCCCCCCEEEEEE...</td>\n",
              "      <td>956</td>\n",
              "      <td>False</td>\n",
              "      <td>XRAY</td>\n",
              "      <td>1.90</td>\n",
              "      <td>0.18</td>\n",
              "      <td>0.21</td>\n",
              "    </tr>\n",
              "    <tr>\n",
              "      <th>9049</th>\n",
              "      <td>4ACO</td>\n",
              "      <td>A</td>\n",
              "      <td>MRSSILFLLKLMKIMDVQQQQEAMSSEDRFQELVDSLKPRTAHQYK...</td>\n",
              "      <td>CCCCCCCCCCCCCCCCCCCCCCCCCCCCCCCCCCCCCCCCCCCCHH...</td>\n",
              "      <td>CCCCCCCCCCCCCCCCCCCCCCCCCCCCCCCCCCCCCCCCCCCCHH...</td>\n",
              "      <td>956</td>\n",
              "      <td>False</td>\n",
              "      <td>XRAY</td>\n",
              "      <td>1.89</td>\n",
              "      <td>0.19</td>\n",
              "      <td>0.23</td>\n",
              "    </tr>\n",
              "  </tbody>\n",
              "</table>\n",
              "<p>9050 rows × 11 columns</p>\n",
              "</div>"
            ],
            "text/plain": [
              "     pdb_id chain_code  ... R-factor FreeRvalue\n",
              "0      1FV1          F  ...     0.23       0.27\n",
              "1      1LM8          H  ...     0.20       0.24\n",
              "2      1O06          A  ...     0.19       0.22\n",
              "3      1QOW          D  ...     0.14       1.00\n",
              "4      1RDQ          I  ...     0.13       0.16\n",
              "...     ...        ...  ...      ...        ...\n",
              "9045   3TG7          A  ...     0.19       0.22\n",
              "9046   5DKX          A  ...     0.15       0.17\n",
              "9047   5JOV          A  ...     0.11       0.15\n",
              "9048   2OKX          B  ...     0.18       0.21\n",
              "9049   4ACO          A  ...     0.19       0.23\n",
              "\n",
              "[9050 rows x 11 columns]"
            ]
          },
          "metadata": {
            "tags": []
          },
          "execution_count": 2
        }
      ]
    },
    {
      "cell_type": "code",
      "metadata": {
        "id": "d_KACzYbrVYW",
        "colab": {
          "base_uri": "https://localhost:8080/",
          "height": 241
        },
        "outputId": "36c4e8d5-016d-43e2-fa40-73094f7c5a53"
      },
      "source": [
        "df.head(5)"
      ],
      "execution_count": 3,
      "outputs": [
        {
          "output_type": "execute_result",
          "data": {
            "text/html": [
              "<div>\n",
              "<style scoped>\n",
              "    .dataframe tbody tr th:only-of-type {\n",
              "        vertical-align: middle;\n",
              "    }\n",
              "\n",
              "    .dataframe tbody tr th {\n",
              "        vertical-align: top;\n",
              "    }\n",
              "\n",
              "    .dataframe thead th {\n",
              "        text-align: right;\n",
              "    }\n",
              "</style>\n",
              "<table border=\"1\" class=\"dataframe\">\n",
              "  <thead>\n",
              "    <tr style=\"text-align: right;\">\n",
              "      <th></th>\n",
              "      <th>pdb_id</th>\n",
              "      <th>chain_code</th>\n",
              "      <th>seq</th>\n",
              "      <th>sst8</th>\n",
              "      <th>sst3</th>\n",
              "      <th>len</th>\n",
              "      <th>has_nonstd_aa</th>\n",
              "      <th>Exptl.</th>\n",
              "      <th>resolution</th>\n",
              "      <th>R-factor</th>\n",
              "      <th>FreeRvalue</th>\n",
              "    </tr>\n",
              "  </thead>\n",
              "  <tbody>\n",
              "    <tr>\n",
              "      <th>0</th>\n",
              "      <td>1FV1</td>\n",
              "      <td>F</td>\n",
              "      <td>NPVVHFFKNIVTPRTPPPSQ</td>\n",
              "      <td>CCCCCBCCCCCCCCCCCCCC</td>\n",
              "      <td>CCCCCECCCCCCCCCCCCCC</td>\n",
              "      <td>20</td>\n",
              "      <td>False</td>\n",
              "      <td>XRAY</td>\n",
              "      <td>1.90</td>\n",
              "      <td>0.23</td>\n",
              "      <td>0.27</td>\n",
              "    </tr>\n",
              "    <tr>\n",
              "      <th>1</th>\n",
              "      <td>1LM8</td>\n",
              "      <td>H</td>\n",
              "      <td>DLDLEMLAPYIPMDDDFQLR</td>\n",
              "      <td>CCCCCCCCCBCCSCCCEECC</td>\n",
              "      <td>CCCCCCCCCECCCCCCEECC</td>\n",
              "      <td>20</td>\n",
              "      <td>False</td>\n",
              "      <td>XRAY</td>\n",
              "      <td>1.85</td>\n",
              "      <td>0.20</td>\n",
              "      <td>0.24</td>\n",
              "    </tr>\n",
              "    <tr>\n",
              "      <th>2</th>\n",
              "      <td>1O06</td>\n",
              "      <td>A</td>\n",
              "      <td>EEDPDLKAAIQESLREAEEA</td>\n",
              "      <td>CCCHHHHHHHHHHHHHHHTC</td>\n",
              "      <td>CCCHHHHHHHHHHHHHHHCC</td>\n",
              "      <td>20</td>\n",
              "      <td>False</td>\n",
              "      <td>XRAY</td>\n",
              "      <td>1.45</td>\n",
              "      <td>0.19</td>\n",
              "      <td>0.22</td>\n",
              "    </tr>\n",
              "    <tr>\n",
              "      <th>3</th>\n",
              "      <td>1QOW</td>\n",
              "      <td>D</td>\n",
              "      <td>CTFTLPGGGGVCTLTSECI*</td>\n",
              "      <td>CCTTSCTTCSSTTSSTTCCC</td>\n",
              "      <td>CCCCCCCCCCCCCCCCCCCC</td>\n",
              "      <td>20</td>\n",
              "      <td>True</td>\n",
              "      <td>XRAY</td>\n",
              "      <td>1.06</td>\n",
              "      <td>0.14</td>\n",
              "      <td>1.00</td>\n",
              "    </tr>\n",
              "    <tr>\n",
              "      <th>4</th>\n",
              "      <td>1RDQ</td>\n",
              "      <td>I</td>\n",
              "      <td>TTYADFIASGRTGRRNAIHD</td>\n",
              "      <td>CHHHHHHTSSCSSCCCCEEC</td>\n",
              "      <td>CHHHHHHCCCCCCCCCCEEC</td>\n",
              "      <td>20</td>\n",
              "      <td>False</td>\n",
              "      <td>XRAY</td>\n",
              "      <td>1.26</td>\n",
              "      <td>0.13</td>\n",
              "      <td>0.16</td>\n",
              "    </tr>\n",
              "  </tbody>\n",
              "</table>\n",
              "</div>"
            ],
            "text/plain": [
              "  pdb_id chain_code                   seq  ... resolution R-factor  FreeRvalue\n",
              "0   1FV1          F  NPVVHFFKNIVTPRTPPPSQ  ...       1.90     0.23        0.27\n",
              "1   1LM8          H  DLDLEMLAPYIPMDDDFQLR  ...       1.85     0.20        0.24\n",
              "2   1O06          A  EEDPDLKAAIQESLREAEEA  ...       1.45     0.19        0.22\n",
              "3   1QOW          D  CTFTLPGGGGVCTLTSECI*  ...       1.06     0.14        1.00\n",
              "4   1RDQ          I  TTYADFIASGRTGRRNAIHD  ...       1.26     0.13        0.16\n",
              "\n",
              "[5 rows x 11 columns]"
            ]
          },
          "metadata": {
            "tags": []
          },
          "execution_count": 3
        }
      ]
    },
    {
      "cell_type": "code",
      "metadata": {
        "id": "pqmNY8KArVYX",
        "colab": {
          "base_uri": "https://localhost:8080/",
          "height": 439
        },
        "outputId": "90c487d5-d542-4e7f-bac7-744b2d413c62"
      },
      "source": [
        "df = df[['seq','len','sst3']][(df['len']<9000)&(df['has_nonstd_aa']==False)]\n",
        "df.drop_duplicates(subset='seq',inplace=True)\n",
        "df.head(500)"
      ],
      "execution_count": 4,
      "outputs": [
        {
          "output_type": "execute_result",
          "data": {
            "text/html": [
              "<div>\n",
              "<style scoped>\n",
              "    .dataframe tbody tr th:only-of-type {\n",
              "        vertical-align: middle;\n",
              "    }\n",
              "\n",
              "    .dataframe tbody tr th {\n",
              "        vertical-align: top;\n",
              "    }\n",
              "\n",
              "    .dataframe thead th {\n",
              "        text-align: right;\n",
              "    }\n",
              "</style>\n",
              "<table border=\"1\" class=\"dataframe\">\n",
              "  <thead>\n",
              "    <tr style=\"text-align: right;\">\n",
              "      <th></th>\n",
              "      <th>seq</th>\n",
              "      <th>len</th>\n",
              "      <th>sst3</th>\n",
              "    </tr>\n",
              "  </thead>\n",
              "  <tbody>\n",
              "    <tr>\n",
              "      <th>0</th>\n",
              "      <td>NPVVHFFKNIVTPRTPPPSQ</td>\n",
              "      <td>20</td>\n",
              "      <td>CCCCCECCCCCCCCCCCCCC</td>\n",
              "    </tr>\n",
              "    <tr>\n",
              "      <th>1</th>\n",
              "      <td>DLDLEMLAPYIPMDDDFQLR</td>\n",
              "      <td>20</td>\n",
              "      <td>CCCCCCCCCECCCCCCEECC</td>\n",
              "    </tr>\n",
              "    <tr>\n",
              "      <th>2</th>\n",
              "      <td>EEDPDLKAAIQESLREAEEA</td>\n",
              "      <td>20</td>\n",
              "      <td>CCCHHHHHHHHHHHHHHHCC</td>\n",
              "    </tr>\n",
              "    <tr>\n",
              "      <th>4</th>\n",
              "      <td>TTYADFIASGRTGRRNAIHD</td>\n",
              "      <td>20</td>\n",
              "      <td>CHHHHHHCCCCCCCCCCEEC</td>\n",
              "    </tr>\n",
              "    <tr>\n",
              "      <th>5</th>\n",
              "      <td>QDSRRSADALLRLQAMAGIS</td>\n",
              "      <td>20</td>\n",
              "      <td>CHHHHHHHHHHHHHHHHCCC</td>\n",
              "    </tr>\n",
              "    <tr>\n",
              "      <th>...</th>\n",
              "      <td>...</td>\n",
              "      <td>...</td>\n",
              "      <td>...</td>\n",
              "    </tr>\n",
              "    <tr>\n",
              "      <th>540</th>\n",
              "      <td>VKDGYIVDDVNCTYFCGRNAYCNEECTKLKGESGYCQWASPYGNAC...</td>\n",
              "      <td>64</td>\n",
              "      <td>CEEEEEECCCCCECCCCCHHHHHHHHHHCCCCEEEEEEEECCEEEE...</td>\n",
              "    </tr>\n",
              "    <tr>\n",
              "      <th>541</th>\n",
              "      <td>TAAVALVKANENAAAILNLKNAIQKTNAAVADVVQATQSLGTAVQA...</td>\n",
              "      <td>64</td>\n",
              "      <td>CHHHHHHHHHHHHHHHHHHHHHHHHHHHHHHHHHHHHHHHHHHHHH...</td>\n",
              "    </tr>\n",
              "    <tr>\n",
              "      <th>542</th>\n",
              "      <td>NKASVVANQLIPINTALTLIMMKAEVVTPMGIPAEEIPKLVGMQVN...</td>\n",
              "      <td>64</td>\n",
              "      <td>CCCEEEECCCECCCCECCHHHEEEECCCCCCCEHHHHHHHCCCEEC...</td>\n",
              "    </tr>\n",
              "    <tr>\n",
              "      <th>543</th>\n",
              "      <td>GSHMPVPSFGEAMAYFAMVKRYLTSFPIDDRVQSHILHLEHDLVHV...</td>\n",
              "      <td>64</td>\n",
              "      <td>CCCCCCCCHHHHHHHHHHHHHHHHCCCCCHHHHHHHHHHHHHHHHH...</td>\n",
              "    </tr>\n",
              "    <tr>\n",
              "      <th>544</th>\n",
              "      <td>DTCGSGYNVDQRRTNSGCKAGNGDRHFCGCDRTGVVECKGGKWTEV...</td>\n",
              "      <td>64</td>\n",
              "      <td>CCCCCCCCCCECCCCCECCHHHCCCEEECCCCCEEEEEECCEEEEE...</td>\n",
              "    </tr>\n",
              "  </tbody>\n",
              "</table>\n",
              "<p>500 rows × 3 columns</p>\n",
              "</div>"
            ],
            "text/plain": [
              "                                                   seq  ...                                               sst3\n",
              "0                                 NPVVHFFKNIVTPRTPPPSQ  ...                               CCCCCECCCCCCCCCCCCCC\n",
              "1                                 DLDLEMLAPYIPMDDDFQLR  ...                               CCCCCCCCCECCCCCCEECC\n",
              "2                                 EEDPDLKAAIQESLREAEEA  ...                               CCCHHHHHHHHHHHHHHHCC\n",
              "4                                 TTYADFIASGRTGRRNAIHD  ...                               CHHHHHHCCCCCCCCCCEEC\n",
              "5                                 QDSRRSADALLRLQAMAGIS  ...                               CHHHHHHHHHHHHHHHHCCC\n",
              "..                                                 ...  ...                                                ...\n",
              "540  VKDGYIVDDVNCTYFCGRNAYCNEECTKLKGESGYCQWASPYGNAC...  ...  CEEEEEECCCCCECCCCCHHHHHHHHHHCCCCEEEEEEEECCEEEE...\n",
              "541  TAAVALVKANENAAAILNLKNAIQKTNAAVADVVQATQSLGTAVQA...  ...  CHHHHHHHHHHHHHHHHHHHHHHHHHHHHHHHHHHHHHHHHHHHHH...\n",
              "542  NKASVVANQLIPINTALTLIMMKAEVVTPMGIPAEEIPKLVGMQVN...  ...  CCCEEEECCCECCCCECCHHHEEEECCCCCCCEHHHHHHHCCCEEC...\n",
              "543  GSHMPVPSFGEAMAYFAMVKRYLTSFPIDDRVQSHILHLEHDLVHV...  ...  CCCCCCCCHHHHHHHHHHHHHHHHCCCCCHHHHHHHHHHHHHHHHH...\n",
              "544  DTCGSGYNVDQRRTNSGCKAGNGDRHFCGCDRTGVVECKGGKWTEV...  ...  CCCCCCCCCCECCCCCECCHHHCCCEEECCCCCEEEEEECCEEEEE...\n",
              "\n",
              "[500 rows x 3 columns]"
            ]
          },
          "metadata": {
            "tags": []
          },
          "execution_count": 4
        }
      ]
    },
    {
      "cell_type": "code",
      "metadata": {
        "id": "XGOVlejOrVYY",
        "colab": {
          "base_uri": "https://localhost:8080/"
        },
        "outputId": "d515ea23-6486-47ce-c887-e320ab24c581"
      },
      "source": [
        "def clear_asterisks(df, seqs_column_name, pct=30):\n",
        "    indices = []\n",
        "    for i, seq in enumerate(df[seqs_column_name]):\n",
        "        if (seq.count('*')*100/len(seq)) <= pct: indices.append(i)\n",
        "    return df.iloc[indices]\n",
        "\n",
        "df = clear_asterisks(df,'seq')\n",
        "df.info()"
      ],
      "execution_count": 5,
      "outputs": [
        {
          "output_type": "stream",
          "text": [
            "<class 'pandas.core.frame.DataFrame'>\n",
            "Int64Index: 8967 entries, 0 to 9049\n",
            "Data columns (total 3 columns):\n",
            " #   Column  Non-Null Count  Dtype \n",
            "---  ------  --------------  ----- \n",
            " 0   seq     8967 non-null   object\n",
            " 1   len     8967 non-null   int64 \n",
            " 2   sst3    8967 non-null   object\n",
            "dtypes: int64(1), object(2)\n",
            "memory usage: 280.2+ KB\n"
          ],
          "name": "stdout"
        }
      ]
    },
    {
      "cell_type": "code",
      "metadata": {
        "id": "bspYNFYQrVYZ",
        "colab": {
          "base_uri": "https://localhost:8080/",
          "height": 281
        },
        "outputId": "ca8fee1e-5279-4e78-c938-911de632145a"
      },
      "source": [
        "plt.hist(x='len',data=df,bins=40,histtype='bar');\n",
        "plt.title('histogram of sequence lengths');"
      ],
      "execution_count": 6,
      "outputs": [
        {
          "output_type": "display_data",
          "data": {
            "image/png": "[encoded data removed]",
            "text/plain": [
              "<Figure size 432x288 with 1 Axes>"
            ]
          },
          "metadata": {
            "tags": [],
            "needs_background": "light"
          }
        }
      ]
    },
    {
      "cell_type": "code",
      "metadata": {
        "id": "_0NOJSFarVYc",
        "colab": {
          "base_uri": "https://localhost:8080/",
          "height": 613
        },
        "outputId": "b9f158a7-3d62-495f-9455-33b712a6c293"
      },
      "source": [
        "dict_a = {'C':[],'H':[],'E':[]}\n",
        "dict_f = {'C':[],'H':[],'E':[]}\n",
        "dict_p = {'C':[],'H':[],'E':[]}\n",
        "dict_s = {'C':[],'H':[],'E':[]}\n",
        "\n",
        "for se,sst in zip(df['seq'],df['sst3']):\n",
        "    for s,ss in zip(se,sst):\n",
        "        if s == 'A':\n",
        "            if ss == 'C': dict_a['C'].append(1)\n",
        "            elif ss == 'H': dict_a['H'].append(1)\n",
        "            elif ss == 'E': dict_a['E'].append(1)\n",
        "        elif s == 'F':        \n",
        "            if ss == 'C': dict_f['C'].append(1)\n",
        "            elif ss == 'H': dict_f['H'].append(1)\n",
        "            elif ss == 'E': dict_f['E'].append(1)\n",
        "        elif s == 'P':        \n",
        "            if ss == 'C': dict_p['C'].append(1)\n",
        "            elif ss == 'H': dict_p['H'].append(1)\n",
        "            elif ss == 'E': dict_p['E'].append(1)\n",
        "        elif s == 'S':        \n",
        "            if ss == 'C': dict_s['C'].append(1)\n",
        "            elif ss == 'H': dict_s['H'].append(1)\n",
        "            elif ss == 'E': dict_s['E'].append(1)\n",
        "                \n",
        "                \n",
        "for k in dict_a.keys(): dict_a[k] = sum(dict_a[k])\n",
        "for k in dict_f.keys(): dict_f[k] = sum(dict_f[k])\n",
        "for k in dict_p.keys(): dict_p[k] = sum(dict_p[k])\n",
        "for k in dict_s.keys(): dict_s[k] = sum(dict_s[k])\n",
        "print('dict_a:  ',dict_a)\n",
        "print('dict_f:  ',dict_f)\n",
        "print('dict_p:  ',dict_p)\n",
        "print('dict_s:  ',dict_s)\n",
        "\n",
        "\n",
        "plt.figure(figsize=(14,4));\n",
        "plt.subplot(1,2,1);\n",
        "sns.barplot(x=list(dict_a.keys()),y=list(dict_a.values()),color='gray');\n",
        "plt.title('Secondary Structure character counts for aminoacid A');\n",
        "plt.subplot(1,2,2);\n",
        "sns.barplot(x=list(dict_f.keys()),y=list(dict_f.values()),color='gray');\n",
        "plt.title('Secondary Structure character counts for aminoacid F');\n",
        "plt.figure(figsize=(14,4));\n",
        "plt.subplot(1,2,1);\n",
        "sns.barplot(x=list(dict_p.keys()),y=list(dict_p.values()),color='gray');\n",
        "plt.title('Secondary Structure character counts for aminoacid P');\n",
        "plt.subplot(1,2,2);\n",
        "sns.barplot(x=list(dict_s.keys()),y=list(dict_s.values()),color='gray');\n",
        "plt.title('Secondary Structure character counts for aminoacid S');"
      ],
      "execution_count": 7,
      "outputs": [
        {
          "output_type": "stream",
          "text": [
            "dict_a:   {'C': 60991, 'H': 87666, 'E': 30074}\n",
            "dict_f:   {'C': 27214, 'H': 31219, 'E': 28219}\n",
            "dict_p:   {'C': 70957, 'H': 19162, 'E': 9792}\n",
            "dict_s:   {'C': 72423, 'H': 38172, 'E': 25181}\n"
          ],
          "name": "stdout"
        },
        {
          "output_type": "display_data",
          "data": {
            "image/png": "[encoded data removed]",
            "text/plain": [
              "<Figure size 1008x288 with 2 Axes>"
            ]
          },
          "metadata": {
            "tags": [],
            "needs_background": "light"
          }
        },
        {
          "output_type": "display_data",
          "data": {
            "image/png": "[encoded data removed]",
            "text/plain": [
              "<Figure size 1008x288 with 2 Axes>"
            ]
          },
          "metadata": {
            "tags": [],
            "needs_background": "light"
          }
        }
      ]
    },
    {
      "cell_type": "code",
      "metadata": {
        "id": "cS9XWSzBrVYe",
        "colab": {
          "base_uri": "https://localhost:8080/",
          "height": 204
        },
        "outputId": "41af6de0-302b-45d3-ed52-824b1b66d94d"
      },
      "source": [
        "def ngrams(seq,n=3):\n",
        "    return ([seq[i:i+n] for i in range(len(seq)-n+1)])\n",
        "\n",
        "df['seqss']=df['seq'].apply(ngrams)\n",
        "df.head()"
      ],
      "execution_count": 8,
      "outputs": [
        {
          "output_type": "execute_result",
          "data": {
            "text/html": [
              "<div>\n",
              "<style scoped>\n",
              "    .dataframe tbody tr th:only-of-type {\n",
              "        vertical-align: middle;\n",
              "    }\n",
              "\n",
              "    .dataframe tbody tr th {\n",
              "        vertical-align: top;\n",
              "    }\n",
              "\n",
              "    .dataframe thead th {\n",
              "        text-align: right;\n",
              "    }\n",
              "</style>\n",
              "<table border=\"1\" class=\"dataframe\">\n",
              "  <thead>\n",
              "    <tr style=\"text-align: right;\">\n",
              "      <th></th>\n",
              "      <th>seq</th>\n",
              "      <th>len</th>\n",
              "      <th>sst3</th>\n",
              "      <th>seqss</th>\n",
              "    </tr>\n",
              "  </thead>\n",
              "  <tbody>\n",
              "    <tr>\n",
              "      <th>0</th>\n",
              "      <td>NPVVHFFKNIVTPRTPPPSQ</td>\n",
              "      <td>20</td>\n",
              "      <td>CCCCCECCCCCCCCCCCCCC</td>\n",
              "      <td>[NPV, PVV, VVH, VHF, HFF, FFK, FKN, KNI, NIV, ...</td>\n",
              "    </tr>\n",
              "    <tr>\n",
              "      <th>1</th>\n",
              "      <td>DLDLEMLAPYIPMDDDFQLR</td>\n",
              "      <td>20</td>\n",
              "      <td>CCCCCCCCCECCCCCCEECC</td>\n",
              "      <td>[DLD, LDL, DLE, LEM, EML, MLA, LAP, APY, PYI, ...</td>\n",
              "    </tr>\n",
              "    <tr>\n",
              "      <th>2</th>\n",
              "      <td>EEDPDLKAAIQESLREAEEA</td>\n",
              "      <td>20</td>\n",
              "      <td>CCCHHHHHHHHHHHHHHHCC</td>\n",
              "      <td>[EED, EDP, DPD, PDL, DLK, LKA, KAA, AAI, AIQ, ...</td>\n",
              "    </tr>\n",
              "    <tr>\n",
              "      <th>4</th>\n",
              "      <td>TTYADFIASGRTGRRNAIHD</td>\n",
              "      <td>20</td>\n",
              "      <td>CHHHHHHCCCCCCCCCCEEC</td>\n",
              "      <td>[TTY, TYA, YAD, ADF, DFI, FIA, IAS, ASG, SGR, ...</td>\n",
              "    </tr>\n",
              "    <tr>\n",
              "      <th>5</th>\n",
              "      <td>QDSRRSADALLRLQAMAGIS</td>\n",
              "      <td>20</td>\n",
              "      <td>CHHHHHHHHHHHHHHHHCCC</td>\n",
              "      <td>[QDS, DSR, SRR, RRS, RSA, SAD, ADA, DAL, ALL, ...</td>\n",
              "    </tr>\n",
              "  </tbody>\n",
              "</table>\n",
              "</div>"
            ],
            "text/plain": [
              "                    seq  ...                                              seqss\n",
              "0  NPVVHFFKNIVTPRTPPPSQ  ...  [NPV, PVV, VVH, VHF, HFF, FFK, FKN, KNI, NIV, ...\n",
              "1  DLDLEMLAPYIPMDDDFQLR  ...  [DLD, LDL, DLE, LEM, EML, MLA, LAP, APY, PYI, ...\n",
              "2  EEDPDLKAAIQESLREAEEA  ...  [EED, EDP, DPD, PDL, DLK, LKA, KAA, AAI, AIQ, ...\n",
              "4  TTYADFIASGRTGRRNAIHD  ...  [TTY, TYA, YAD, ADF, DFI, FIA, IAS, ASG, SGR, ...\n",
              "5  QDSRRSADALLRLQAMAGIS  ...  [QDS, DSR, SRR, RRS, RSA, SAD, ADA, DAL, ALL, ...\n",
              "\n",
              "[5 rows x 4 columns]"
            ]
          },
          "metadata": {
            "tags": []
          },
          "execution_count": 8
        }
      ]
    },
    {
      "cell_type": "code",
      "metadata": {
        "id": "funGeowQrVYg",
        "colab": {
          "base_uri": "https://localhost:8080/"
        },
        "outputId": "5fde189a-f868-4a5c-a0d7-d091dc735623"
      },
      "source": [
        "# function to calculate maximum length\n",
        "# we could simply use df['len'].max(), but let's compute it just in case\n",
        "def max_length(series):\n",
        "    l = []\n",
        "    [l.append(len(s)) for s in series]\n",
        "    return max(l)\n",
        "\n",
        "maxlen = max_length(df['seq'])\n",
        "maxlen"
      ],
      "execution_count": 9,
      "outputs": [
        {
          "output_type": "execute_result",
          "data": {
            "text/plain": [
              "956"
            ]
          },
          "metadata": {
            "tags": []
          },
          "execution_count": 9
        }
      ]
    },
    {
      "cell_type": "code",
      "metadata": {
        "id": "h9v5KNWsrVYi"
      },
      "source": [
        "import tensorflow as tf\n",
        "import keras as k"
      ],
      "execution_count": 10,
      "outputs": []
    },
    {
      "cell_type": "code",
      "metadata": {
        "scrolled": true,
        "id": "QJ_01cVxrVYj",
        "colab": {
          "base_uri": "https://localhost:8080/"
        },
        "outputId": "754c0d65-ec51-48fe-b608-633dc0ced411"
      },
      "source": [
        "# tokenize, then pad sequences into uniform length\n",
        "from keras.preprocessing import text, sequence\n",
        "from keras.preprocessing.text import Tokenizer\n",
        "from tensorflow.keras.utils import to_categorical\n",
        "\n",
        "tok_x = Tokenizer(lower=False)\n",
        "tok_x.fit_on_texts(df['seqss'].values)\n",
        "x = tok_x.texts_to_sequences(df['seqss'].values)\n",
        "x = sequence.pad_sequences(x, maxlen=maxlen, padding='post')\n",
        "\n",
        "tok_y = Tokenizer(char_level=True)\n",
        "tok_y.fit_on_texts(df['sst3'].values)\n",
        "y = tok_y.texts_to_sequences(df['sst3'].values)\n",
        "y = sequence.pad_sequences(y, maxlen=maxlen, padding='post')\n",
        "y = to_categorical(y)\n",
        "\n",
        "print(x.shape)\n",
        "print(y.shape)"
      ],
      "execution_count": 11,
      "outputs": [
        {
          "output_type": "stream",
          "text": [
            "(8967, 956)\n",
            "(8967, 956, 4)\n"
          ],
          "name": "stdout"
        }
      ]
    },
    {
      "cell_type": "code",
      "metadata": {
        "id": "rc3jaQefrVYk",
        "colab": {
          "base_uri": "https://localhost:8080/"
        },
        "outputId": "861392f7-36fa-48d2-c1d7-55657c8caa96"
      },
      "source": [
        "# split data into train and test sets \n",
        "from sklearn.model_selection import train_test_split\n",
        "\n",
        "x_tr, x_ts, y_tr, y_ts = train_test_split(x,y,test_size=0.3, random_state=33)\n",
        "x_tr.shape, y_tr.shape, x_ts.shape, y_ts.shape"
      ],
      "execution_count": 12,
      "outputs": [
        {
          "output_type": "execute_result",
          "data": {
            "text/plain": [
              "((6276, 956), (6276, 956, 4), (2691, 956), (2691, 956, 4))"
            ]
          },
          "metadata": {
            "tags": []
          },
          "execution_count": 12
        }
      ]
    },
    {
      "cell_type": "code",
      "metadata": {
        "id": "DXlkF5tnrVYk"
      },
      "source": [
        "#import libraries and calculate hyperparameters about train-data dimensions\n",
        "from keras.models import Sequential\n",
        "from keras.layers import Embedding, Dense, TimeDistributed, Bidirectional, GRU, LSTM\n",
        "n_ngrams = len(tok_x.word_index) + 1\n",
        "n_tags = len(tok_y.word_index) + 1"
      ],
      "execution_count": 13,
      "outputs": []
    },
    {
      "cell_type": "code",
      "metadata": {
        "colab": {
          "base_uri": "https://localhost:8080/"
        },
        "id": "JUd6V9N_rVYl",
        "outputId": "50259413-6763-458d-fc79-64c19154867a"
      },
      "source": [
        "gru = Sequential()\n",
        "gru.add(Embedding(input_dim=n_ngrams,output_dim=x.shape[0]//12,input_length=maxlen))\n",
        "gru.add(Bidirectional(GRU(x.shape[0]//24,return_sequences=True, recurrent_dropout=0.1)))\n",
        "gru.add(TimeDistributed(Dense(n_tags,input_dim=y.shape[2],activation='softmax')))\n",
        "gru.summary()"
      ],
      "execution_count": 14,
      "outputs": [
        {
          "output_type": "stream",
          "text": [
            "Model: \"sequential\"\n",
            "_________________________________________________________________\n",
            "Layer (type)                 Output Shape              Param #   \n",
            "=================================================================\n",
            "embedding (Embedding)        (None, 956, 747)          5976747   \n",
            "_________________________________________________________________\n",
            "bidirectional (Bidirectional (None, 956, 746)          2511036   \n",
            "_________________________________________________________________\n",
            "time_distributed (TimeDistri (None, 956, 4)            2988      \n",
            "=================================================================\n",
            "Total params: 8,490,771\n",
            "Trainable params: 8,490,771\n",
            "Non-trainable params: 0\n",
            "_________________________________________________________________\n"
          ],
          "name": "stdout"
        }
      ]
    },
    {
      "cell_type": "code",
      "metadata": {
        "id": "ci4-mvjHrVYl",
        "colab": {
          "base_uri": "https://localhost:8080/"
        },
        "outputId": "740e0fa7-a4bd-4e6c-a4b6-d6cb2196cf3a"
      },
      "source": [
        "gru.compile(optimizer='rmsprop',loss='categorical_crossentropy',metrics=['acc'])\n",
        "gru.fit(x_tr,y_tr,epochs=1,validation_split=0.1,verbose=1)"
      ],
      "execution_count": 15,
      "outputs": [
        {
          "output_type": "stream",
          "text": [
            "177/177 [==============================] - 9636s 54s/step - loss: 0.2801 - acc: 0.8607 - val_loss: 0.1926 - val_acc: 0.9152\n"
          ],
          "name": "stdout"
        },
        {
          "output_type": "execute_result",
          "data": {
            "text/plain": [
              "<keras.callbacks.History at 0x7f758a89bdd0>"
            ]
          },
          "metadata": {
            "tags": []
          },
          "execution_count": 15
        }
      ]
    },
    {
      "cell_type": "code",
      "metadata": {
        "id": "t2VsbaQ4rVYm",
        "colab": {
          "base_uri": "https://localhost:8080/"
        },
        "outputId": "37b070a2-aba2-4c3b-8621-a2ddf48170cd"
      },
      "source": [
        "#regular accuracy\n",
        "evals = gru.evaluate(x_ts,y_ts)\n",
        "print('accuracy:', evals[1]*100)"
      ],
      "execution_count": 16,
      "outputs": [
        {
          "output_type": "stream",
          "text": [
            "85/85 [==============================] - 658s 8s/step - loss: 0.1995 - acc: 0.9121\n",
            "accuracy: 91.2065863609314\n"
          ],
          "name": "stdout"
        }
      ]
    },
    {
      "cell_type": "code",
      "metadata": {
        "id": "sqDYKlkZrVYm",
        "colab": {
          "base_uri": "https://localhost:8080/"
        },
        "outputId": "8bbbe35a-58c7-4f38-a7a5-e69c6b906104"
      },
      "source": [
        "# q3 accuracy\n",
        "from keras import backend  as K\n",
        "import tensorflow as tf\n",
        "\n",
        "\n",
        "def q3_acc(y_true, y_pred):\n",
        "    y = tf.argmax(y_true, axis=-1)\n",
        "    y_ = tf.argmax(y_pred, axis=-1)\n",
        "    mask = tf.greater(y, 0)\n",
        "    q3 = K.cast(K.equal(tf.boolean_mask(y, mask), tf.boolean_mask(y_, mask)), K.floatx())\n",
        "    return sum(q3) / q3.shape[0]\n",
        "\n",
        "preds = gru.predict(x_ts)\n",
        "print(q3_acc(y_ts,preds))"
      ],
      "execution_count": 17,
      "outputs": [
        {
          "output_type": "stream",
          "text": [
            "tf.Tensor(0.65651065, shape=(), dtype=float32)\n"
          ],
          "name": "stdout"
        }
      ]
    }
  ]
}